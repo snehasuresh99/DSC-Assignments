{
 "cells": [
  {
   "cell_type": "markdown",
   "metadata": {},
   "source": [
    "# Numpy assignment\n",
    "- Different tasks will be detailed by comments or text.\n",
    "- For further reference and resources, it's advised to check out the NumPy documentation."
   ]
  },
  {
   "cell_type": "code",
   "execution_count": 1,
   "metadata": {},
   "outputs": [],
   "source": [
    "# Import NumPy as its abbreviation 'np'\n",
    "import numpy as np"
   ]
  },
  {
   "cell_type": "code",
   "execution_count": 2,
   "metadata": {},
   "outputs": [],
   "source": [
    "# Create a 1-dimensional NumPy array using np.array()\n",
    "a= np.array( [5,1,2] )\n",
    "\n",
    "# Create a 2-dimensional NumPy array using np.array()\n",
    "b = np.array( [ [6, 1.2, 5],[2.0, 7, 8.2] ] )"
   ]
  },
  {
   "cell_type": "code",
   "execution_count": 3,
   "metadata": {},
   "outputs": [
    {
     "name": "stdout",
     "output_type": "stream",
     "text": [
      "Shape:  (3,)\n",
      "Number of dimensions:  1\n",
      "Size:  3\n",
      "Type:  int32\n"
     ]
    }
   ],
   "source": [
    "# Attributes of 1-dimensional array (shape, number of dimensions, data type, size and type)\n",
    "print( \"Shape: \", a.shape )\n",
    "print(\"Number of dimensions: \", a.ndim)\n",
    "print(\"Size: \", a.size)\n",
    "print(\"Type: \", a.dtype)"
   ]
  },
  {
   "cell_type": "code",
   "execution_count": 4,
   "metadata": {},
   "outputs": [
    {
     "name": "stdout",
     "output_type": "stream",
     "text": [
      "Shape:  (2, 3)\n",
      "Number of dimensions:  2\n",
      "Size:  6\n",
      "Type:  float64\n"
     ]
    }
   ],
   "source": [
    "# Attributes of 2-dimensional array\n",
    "print( \"Shape: \",b.shape )\n",
    "print(\"Number of dimensions: \", b.ndim)\n",
    "print(\"Size: \", b.size)\n",
    "print(\"Type: \", b.dtype)"
   ]
  },
  {
   "cell_type": "code",
   "execution_count": 5,
   "metadata": {},
   "outputs": [
    {
     "data": {
      "text/plain": [
       "array([[1, 1, 1, 1, 1],\n",
       "       [1, 1, 1, 1, 1],\n",
       "       [1, 1, 1, 1, 1],\n",
       "       [1, 1, 1, 1, 1],\n",
       "       [1, 1, 1, 1, 1]], dtype=int64)"
      ]
     },
     "execution_count": 5,
     "metadata": {},
     "output_type": "execute_result"
    }
   ],
   "source": [
    "# Create an array of shape (5, 5) with only ones\n",
    "o= np.ones( (5,5), np.int64)\n",
    "o"
   ]
  },
  {
   "cell_type": "code",
   "execution_count": 6,
   "metadata": {},
   "outputs": [
    {
     "data": {
      "text/plain": [
       "array([[[0, 0, 0, 0, 0],\n",
       "        [0, 0, 0, 0, 0],\n",
       "        [0, 0, 0, 0, 0]],\n",
       "\n",
       "       [[0, 0, 0, 0, 0],\n",
       "        [0, 0, 0, 0, 0],\n",
       "        [0, 0, 0, 0, 0]],\n",
       "\n",
       "       [[0, 0, 0, 0, 0],\n",
       "        [0, 0, 0, 0, 0],\n",
       "        [0, 0, 0, 0, 0]]], dtype=int64)"
      ]
     },
     "execution_count": 6,
     "metadata": {},
     "output_type": "execute_result"
    }
   ],
   "source": [
    "# Create an array of shape (3, 3, 5) with only zeros\n",
    "z= np.zeros( (3,3,5), np.int64)\n",
    "z"
   ]
  },
  {
   "cell_type": "code",
   "execution_count": 7,
   "metadata": {},
   "outputs": [
    {
     "data": {
      "text/plain": [
       "array([[3, 5],\n",
       "       [6, 2],\n",
       "       [5, 3],\n",
       "       [3, 0],\n",
       "       [6, 4],\n",
       "       [8, 6],\n",
       "       [6, 1]], dtype=int64)"
      ]
     },
     "execution_count": 7,
     "metadata": {},
     "output_type": "execute_result"
    }
   ],
   "source": [
    "# Create a random array with numbers between 0 and 10 of size (7, 2)\n",
    "a1=  np.random.randint(0, 10, (7,2), np.int64 )\n",
    "a1"
   ]
  },
  {
   "cell_type": "code",
   "execution_count": 8,
   "metadata": {},
   "outputs": [
    {
     "data": {
      "text/plain": [
       "array([[0.89785653, 0.4572419 , 0.9073584 , 0.93888905, 0.65828944],\n",
       "       [0.95935244, 0.11330799, 0.63160771, 0.92068685, 0.91065819],\n",
       "       [0.18173001, 0.4110939 , 0.85281101, 0.69716524, 0.25304814]])"
      ]
     },
     "execution_count": 8,
     "metadata": {},
     "output_type": "execute_result"
    }
   ],
   "source": [
    "# Create a random array of floats between 0 & 1 of shape (3, 5)\n",
    "a2=np.random.rand( 3,5 )\n",
    "a2"
   ]
  },
  {
   "cell_type": "code",
   "execution_count": 9,
   "metadata": {},
   "outputs": [
    {
     "data": {
      "text/plain": [
       "array([ 0.94758519, -1.26243023,  1.28263417,  0.31207396,  0.0270566 ])"
      ]
     },
     "execution_count": 9,
     "metadata": {},
     "output_type": "execute_result"
    }
   ],
   "source": [
    "# Create an array of normally distributed random numbers\n",
    "a3= np.random.randn(5)\n",
    "a3"
   ]
  },
  {
   "cell_type": "code",
   "execution_count": 10,
   "metadata": {},
   "outputs": [
    {
     "data": {
      "text/plain": [
       "array([[6, 3, 7, 4, 6, 9],\n",
       "       [2, 6, 7, 4, 3, 7],\n",
       "       [7, 2, 5, 4, 1, 7],\n",
       "       [5, 1, 4, 0, 9, 5]])"
      ]
     },
     "execution_count": 10,
     "metadata": {},
     "output_type": "execute_result"
    }
   ],
   "source": [
    "# Set the random seed to 42\n",
    "np.random.seed(42)\n",
    "# Create a random array of numbers between 0 & 10 of size (4, 6)\n",
    "a4=np.random.randint(10, size=(4, 6))\n",
    "a4"
   ]
  },
  {
   "cell_type": "code",
   "execution_count": 11,
   "metadata": {},
   "outputs": [
    {
     "data": {
      "text/plain": [
       "array([[0.37454012, 0.95071431, 0.73199394, 0.59865848, 0.15601864,\n",
       "        0.15599452],\n",
       "       [0.05808361, 0.86617615, 0.60111501, 0.70807258, 0.02058449,\n",
       "        0.96990985],\n",
       "       [0.83244264, 0.21233911, 0.18182497, 0.18340451, 0.30424224,\n",
       "        0.52475643],\n",
       "       [0.43194502, 0.29122914, 0.61185289, 0.13949386, 0.29214465,\n",
       "        0.36636184]])"
      ]
     },
     "execution_count": 11,
     "metadata": {},
     "output_type": "execute_result"
    }
   ],
   "source": [
    "# Copy the code from the cell above and run it again\n",
    "np.random.seed(42)\n",
    "a5= np.random.rand(4,6)\n",
    "a5"
   ]
  },
  {
   "cell_type": "code",
   "execution_count": 12,
   "metadata": {},
   "outputs": [
    {
     "name": "stdout",
     "output_type": "stream",
     "text": [
      "0.3745401188473625\n"
     ]
    }
   ],
   "source": [
    "# Find the 0'th index of the latest array you created\n",
    "print(a5[0][0])"
   ]
  },
  {
   "cell_type": "code",
   "execution_count": 13,
   "metadata": {},
   "outputs": [
    {
     "data": {
      "text/plain": [
       "array([[0.37454012, 0.95071431, 0.73199394, 0.59865848, 0.15601864,\n",
       "        0.15599452],\n",
       "       [0.05808361, 0.86617615, 0.60111501, 0.70807258, 0.02058449,\n",
       "        0.96990985]])"
      ]
     },
     "execution_count": 13,
     "metadata": {},
     "output_type": "execute_result"
    }
   ],
   "source": [
    "# Get the first 2 rows of latest array you created\n",
    "a5[0:2]"
   ]
  },
  {
   "cell_type": "code",
   "execution_count": 14,
   "metadata": {},
   "outputs": [
    {
     "data": {
      "text/plain": [
       "array([[0.37454012, 0.95071431],\n",
       "       [0.05808361, 0.86617615]])"
      ]
     },
     "execution_count": 14,
     "metadata": {},
     "output_type": "execute_result"
    }
   ],
   "source": [
    "# Get the first 2 values of the first 2 rows of the latest array\n",
    "a5[:2,:2]"
   ]
  },
  {
   "cell_type": "code",
   "execution_count": 15,
   "metadata": {},
   "outputs": [],
   "source": [
    "# Create a random array of numbers between 0 & 10 and an array of ones both of size (3, 5), save them both to variables\n",
    "b1 = np.random.randint(0, 10, (3,5), np.int64)\n",
    "b2 = np.ones( (3,5), np.int64)\n"
   ]
  },
  {
   "cell_type": "code",
   "execution_count": 16,
   "metadata": {},
   "outputs": [
    {
     "data": {
      "text/plain": [
       "array([[2, 6, 3, 8, 2],\n",
       "       [4, 2, 6, 4, 8],\n",
       "       [6, 1, 3, 8, 1]], dtype=int64)"
      ]
     },
     "execution_count": 16,
     "metadata": {},
     "output_type": "execute_result"
    }
   ],
   "source": [
    "b1"
   ]
  },
  {
   "cell_type": "code",
   "execution_count": 17,
   "metadata": {},
   "outputs": [
    {
     "data": {
      "text/plain": [
       "array([[1, 1, 1, 1, 1],\n",
       "       [1, 1, 1, 1, 1],\n",
       "       [1, 1, 1, 1, 1]], dtype=int64)"
      ]
     },
     "execution_count": 17,
     "metadata": {},
     "output_type": "execute_result"
    }
   ],
   "source": [
    "b2"
   ]
  },
  {
   "cell_type": "code",
   "execution_count": 18,
   "metadata": {},
   "outputs": [
    {
     "data": {
      "text/plain": [
       "array([[3, 7, 4, 9, 3],\n",
       "       [5, 3, 7, 5, 9],\n",
       "       [7, 2, 4, 9, 2]], dtype=int64)"
      ]
     },
     "execution_count": 18,
     "metadata": {},
     "output_type": "execute_result"
    }
   ],
   "source": [
    "# Add the two arrays together\n",
    "add=b1+b2\n",
    "add"
   ]
  },
  {
   "cell_type": "code",
   "execution_count": 19,
   "metadata": {},
   "outputs": [
    {
     "data": {
      "text/plain": [
       "array([[1, 1, 1],\n",
       "       [1, 1, 1],\n",
       "       [1, 1, 1],\n",
       "       [1, 1, 1],\n",
       "       [1, 1, 1]], dtype=int64)"
      ]
     },
     "execution_count": 19,
     "metadata": {},
     "output_type": "execute_result"
    }
   ],
   "source": [
    "# Create another array of ones of shape (5, 3)\n",
    "b3 = np.ones( (5,3), np.int64 )\n",
    "b3"
   ]
  },
  {
   "cell_type": "code",
   "execution_count": 20,
   "metadata": {},
   "outputs": [
    {
     "ename": "ValueError",
     "evalue": "operands could not be broadcast together with shapes (3,5) (5,3) ",
     "output_type": "error",
     "traceback": [
      "\u001b[1;31m---------------------------------------------------------------------------\u001b[0m",
      "\u001b[1;31mValueError\u001b[0m                                Traceback (most recent call last)",
      "\u001b[1;32m<ipython-input-20-a8927519a580>\u001b[0m in \u001b[0;36m<module>\u001b[1;34m\u001b[0m\n\u001b[0;32m      1\u001b[0m \u001b[1;31m# Try add the array of ones and the other most recent array together # You can anticipate an error\u001b[0m\u001b[1;33m\u001b[0m\u001b[1;33m\u001b[0m\u001b[1;33m\u001b[0m\u001b[0m\n\u001b[1;32m----> 2\u001b[1;33m \u001b[0madd\u001b[0m\u001b[1;33m+\u001b[0m\u001b[0mb3\u001b[0m\u001b[1;33m\u001b[0m\u001b[1;33m\u001b[0m\u001b[0m\n\u001b[0m",
      "\u001b[1;31mValueError\u001b[0m: operands could not be broadcast together with shapes (3,5) (5,3) "
     ]
    }
   ],
   "source": [
    "# Try add the array of ones and the other most recent array together # You can anticipate an error\n",
    "add+b3"
   ]
  },
  {
   "cell_type": "code",
   "execution_count": 21,
   "metadata": {},
   "outputs": [
    {
     "data": {
      "text/plain": [
       "array([[ 4,  8,  5, 10,  4],\n",
       "       [ 6,  4,  8,  6, 10],\n",
       "       [ 8,  3,  5, 10,  3]], dtype=int64)"
      ]
     },
     "execution_count": 21,
     "metadata": {},
     "output_type": "execute_result"
    }
   ],
   "source": [
    "# Do the same operation you just did but this time with a transpose on one array\n",
    "b4=add+b3.T\n",
    "b4"
   ]
  },
  {
   "cell_type": "code",
   "execution_count": 22,
   "metadata": {},
   "outputs": [
    {
     "data": {
      "text/plain": [
       "array([[ 16,  64,  25, 100,  16],\n",
       "       [ 36,  16,  64,  36, 100],\n",
       "       [ 64,   9,  25, 100,   9]], dtype=int64)"
      ]
     },
     "execution_count": 22,
     "metadata": {},
     "output_type": "execute_result"
    }
   ],
   "source": [
    "# Take the latest array to the power of 2 using the python way\n",
    "b4**2"
   ]
  },
  {
   "cell_type": "code",
   "execution_count": 23,
   "metadata": {},
   "outputs": [
    {
     "data": {
      "text/plain": [
       "array([[ 16,  64,  25, 100,  16],\n",
       "       [ 36,  16,  64,  36, 100],\n",
       "       [ 64,   9,  25, 100,   9]], dtype=int64)"
      ]
     },
     "execution_count": 23,
     "metadata": {},
     "output_type": "execute_result"
    }
   ],
   "source": [
    "# Do the same thing with numpy way\n",
    "np.square(b4)"
   ]
  },
  {
   "cell_type": "code",
   "execution_count": 24,
   "metadata": {},
   "outputs": [
    {
     "name": "stdout",
     "output_type": "stream",
     "text": [
      "6.266666666666667\n",
      "10\n",
      "3\n",
      "2.462158041682585\n",
      "6.062222222222222\n"
     ]
    }
   ],
   "source": [
    "# Find the mean, min, max, standard deviation, variance of the latest array using np.mean()\n",
    "mean = np.mean(b4)\n",
    "max = np.max(b4)\n",
    "min = np.min(b4)\n",
    "std = np.std(b4)\n",
    "var = np.var(b4)\n",
    "print(mean)\n",
    "print(max)\n",
    "print(min)\n",
    "print(std)\n",
    "print(var)"
   ]
  },
  {
   "cell_type": "code",
   "execution_count": 26,
   "metadata": {},
   "outputs": [
    {
     "name": "stdout",
     "output_type": "stream",
     "text": [
      "[[5 5 9]\n",
      " [3 5 1]\n",
      " [9 1 9]]\n",
      "[[3 7]\n",
      " [6 8]\n",
      " [7 4]]\n"
     ]
    }
   ],
   "source": [
    "# Create two arrays of random integers between 0 to 10 one of size (3, 3) the other of size (3, 2)\n",
    "c1 = np.random.randint(0,10, (3,3), np.int64)\n",
    "c2 = np.random.randint(0,10, (3,2), np.int64)\n",
    "print(c1)\n",
    "print(c2)"
   ]
  },
  {
   "cell_type": "code",
   "execution_count": 27,
   "metadata": {},
   "outputs": [
    {
     "name": "stdout",
     "output_type": "stream",
     "text": [
      "[[108 111]\n",
      " [ 46  65]\n",
      " [ 96 107]]\n"
     ]
    }
   ],
   "source": [
    "# Perform a dot product on the two newest arrays you created\n",
    "dot = np.dot(c1,c2)\n",
    "print(dot)"
   ]
  },
  {
   "cell_type": "code",
   "execution_count": 28,
   "metadata": {},
   "outputs": [],
   "source": [
    "# Create two arrays of random integers between 0 to 10 both of size (4, 3)\n",
    "d1 = np.random.randint(0,10, (4,3), np.int64)\n",
    "d2 = np.random.randint(0,10, (4,3), np.int64)"
   ]
  },
  {
   "cell_type": "code",
   "execution_count": 29,
   "metadata": {},
   "outputs": [
    {
     "data": {
      "text/plain": [
       "array([[1, 4, 7],\n",
       "       [9, 8, 8],\n",
       "       [0, 8, 6],\n",
       "       [8, 7, 0]], dtype=int64)"
      ]
     },
     "execution_count": 29,
     "metadata": {},
     "output_type": "execute_result"
    }
   ],
   "source": [
    "d1"
   ]
  },
  {
   "cell_type": "code",
   "execution_count": 30,
   "metadata": {},
   "outputs": [
    {
     "data": {
      "text/plain": [
       "array([[7, 7, 2],\n",
       "       [0, 7, 2],\n",
       "       [2, 0, 4],\n",
       "       [9, 6, 9]], dtype=int64)"
      ]
     },
     "execution_count": 30,
     "metadata": {},
     "output_type": "execute_result"
    }
   ],
   "source": [
    "d2"
   ]
  },
  {
   "cell_type": "code",
   "execution_count": 31,
   "metadata": {},
   "outputs": [
    {
     "data": {
      "text/plain": [
       "array([[ 7, 28, 14],\n",
       "       [ 0, 56, 16],\n",
       "       [ 0,  0, 24],\n",
       "       [72, 42,  0]], dtype=int64)"
      ]
     },
     "execution_count": 31,
     "metadata": {},
     "output_type": "execute_result"
    }
   ],
   "source": [
    "# Perform a hadamard product on the two newest arrays you created\n",
    "hadm=d1*d2\n",
    "hadm"
   ]
  },
  {
   "cell_type": "code",
   "execution_count": 32,
   "metadata": {},
   "outputs": [
    {
     "ename": "ValueError",
     "evalue": "shapes (4,3) and (4,3) not aligned: 3 (dim 1) != 4 (dim 0)",
     "output_type": "error",
     "traceback": [
      "\u001b[1;31m---------------------------------------------------------------------------\u001b[0m",
      "\u001b[1;31mValueError\u001b[0m                                Traceback (most recent call last)",
      "\u001b[1;32m<ipython-input-32-621299e21045>\u001b[0m in \u001b[0;36m<module>\u001b[1;34m\u001b[0m\n\u001b[0;32m      1\u001b[0m \u001b[1;31m# Perform a dot product on the two newest arrays you created # Error anticipated\u001b[0m\u001b[1;33m\u001b[0m\u001b[1;33m\u001b[0m\u001b[1;33m\u001b[0m\u001b[0m\n\u001b[1;32m----> 2\u001b[1;33m \u001b[0mnp\u001b[0m\u001b[1;33m.\u001b[0m\u001b[0mdot\u001b[0m\u001b[1;33m(\u001b[0m\u001b[0md1\u001b[0m\u001b[1;33m,\u001b[0m \u001b[0md2\u001b[0m\u001b[1;33m)\u001b[0m\u001b[1;33m\u001b[0m\u001b[1;33m\u001b[0m\u001b[0m\n\u001b[0m",
      "\u001b[1;32m<__array_function__ internals>\u001b[0m in \u001b[0;36mdot\u001b[1;34m(*args, **kwargs)\u001b[0m\n",
      "\u001b[1;31mValueError\u001b[0m: shapes (4,3) and (4,3) not aligned: 3 (dim 1) != 4 (dim 0)"
     ]
    }
   ],
   "source": [
    "# Perform a dot product on the two newest arrays you created # Error anticipated\n",
    "np.dot(d1, d2)"
   ]
  },
  {
   "cell_type": "code",
   "execution_count": 33,
   "metadata": {},
   "outputs": [
    {
     "data": {
      "text/plain": [
       "array([[ 79, 118,  92],\n",
       "       [107, 126, 119],\n",
       "       [ 61, 105,  54]], dtype=int64)"
      ]
     },
     "execution_count": 33,
     "metadata": {},
     "output_type": "execute_result"
    }
   ],
   "source": [
    "# Take the latest two arrays, perform a transpose on one of them and then perform a dot product on them both\n",
    "np.dot(d1.T, d2)"
   ]
  },
  {
   "cell_type": "code",
   "execution_count": 34,
   "metadata": {},
   "outputs": [],
   "source": [
    "# Create two arrays of random integers between 0 & 10 of the same shape and save them to variables\n",
    "e1 = np.random.randint(0,10, 5)\n",
    "e2 = np.random.randint(0,10, 5)"
   ]
  },
  {
   "cell_type": "code",
   "execution_count": 35,
   "metadata": {},
   "outputs": [
    {
     "data": {
      "text/plain": [
       "array([8, 6, 8, 7, 1])"
      ]
     },
     "execution_count": 35,
     "metadata": {},
     "output_type": "execute_result"
    }
   ],
   "source": [
    "e1"
   ]
  },
  {
   "cell_type": "code",
   "execution_count": 36,
   "metadata": {},
   "outputs": [
    {
     "data": {
      "text/plain": [
       "array([0, 6, 6, 7, 4])"
      ]
     },
     "execution_count": 36,
     "metadata": {},
     "output_type": "execute_result"
    }
   ],
   "source": [
    "e2"
   ]
  },
  {
   "cell_type": "code",
   "execution_count": 37,
   "metadata": {},
   "outputs": [
    {
     "data": {
      "text/plain": [
       "array([ True, False,  True, False, False])"
      ]
     },
     "execution_count": 37,
     "metadata": {},
     "output_type": "execute_result"
    }
   ],
   "source": [
    "# Compare the two arrays with '>', '<=' and '==' \n",
    "e1 > e2"
   ]
  },
  {
   "cell_type": "code",
   "execution_count": 38,
   "metadata": {},
   "outputs": [
    {
     "data": {
      "text/plain": [
       "array([False,  True, False,  True,  True])"
      ]
     },
     "execution_count": 38,
     "metadata": {},
     "output_type": "execute_result"
    }
   ],
   "source": [
    "e1 <= e2"
   ]
  },
  {
   "cell_type": "code",
   "execution_count": 39,
   "metadata": {},
   "outputs": [
    {
     "data": {
      "text/plain": [
       "array([False,  True, False,  True, False])"
      ]
     },
     "execution_count": 39,
     "metadata": {},
     "output_type": "execute_result"
    }
   ],
   "source": [
    "e1 == e2"
   ]
  },
  {
   "cell_type": "code",
   "execution_count": 40,
   "metadata": {},
   "outputs": [
    {
     "data": {
      "text/plain": [
       "array([0, 4, 6, 6, 7])"
      ]
     },
     "execution_count": 40,
     "metadata": {},
     "output_type": "execute_result"
    }
   ],
   "source": [
    "# Sort one of the arrays you just created in ascending order\n",
    "np.sort(e2)"
   ]
  },
  {
   "cell_type": "code",
   "execution_count": 41,
   "metadata": {},
   "outputs": [
    {
     "data": {
      "text/plain": [
       "array([0, 4, 1, 2, 3], dtype=int64)"
      ]
     },
     "execution_count": 41,
     "metadata": {},
     "output_type": "execute_result"
    }
   ],
   "source": [
    "# Sort the indexes of one of the arrays you just created\n",
    "np.argsort(e2)"
   ]
  },
  {
   "cell_type": "code",
   "execution_count": 42,
   "metadata": {},
   "outputs": [
    {
     "data": {
      "text/plain": [
       "3"
      ]
     },
     "execution_count": 42,
     "metadata": {},
     "output_type": "execute_result"
    }
   ],
   "source": [
    "# Find the index with the maximum value in one of the arrays you've created\n",
    "np.argmax(e2)"
   ]
  },
  {
   "cell_type": "code",
   "execution_count": 43,
   "metadata": {},
   "outputs": [
    {
     "data": {
      "text/plain": [
       "array([  1.,  12.,  23.,  34.,  45.,  56.,  67.,  78.,  89., 100.])"
      ]
     },
     "execution_count": 43,
     "metadata": {},
     "output_type": "execute_result"
    }
   ],
   "source": [
    "# Create an array with 10 evenly spaced numbers between 1 and 100\n",
    "np.linspace(1,100,10)"
   ]
  },
  {
   "cell_type": "code",
   "execution_count": 46,
   "metadata": {},
   "outputs": [
    {
     "data": {
      "text/plain": [
       "array([2, 0, 1, 0], dtype=int64)"
      ]
     },
     "execution_count": 46,
     "metadata": {},
     "output_type": "execute_result"
    }
   ],
   "source": [
    "# Find the indexes with the maximum values down the verticial axis of one of the arrays you created\n",
    "np.argmax(d1, axis=1)"
   ]
  },
  {
   "cell_type": "code",
   "execution_count": 45,
   "metadata": {},
   "outputs": [
    {
     "data": {
      "text/plain": [
       "array([2, 0, 3], dtype=int64)"
      ]
     },
     "execution_count": 45,
     "metadata": {},
     "output_type": "execute_result"
    }
   ],
   "source": [
    "# Find the indexes with the minimum values across the horizontal axis of one of the arrays you created\n",
    "np.argmin(d1, axis=0)"
   ]
  }
 ],
 "metadata": {
  "kernelspec": {
   "display_name": "Python 3",
   "language": "python",
   "name": "python3"
  },
  "language_info": {
   "codemirror_mode": {
    "name": "ipython",
    "version": 3
   },
   "file_extension": ".py",
   "mimetype": "text/x-python",
   "name": "python",
   "nbconvert_exporter": "python",
   "pygments_lexer": "ipython3",
   "version": "3.8.3"
  }
 },
 "nbformat": 4,
 "nbformat_minor": 4
}
