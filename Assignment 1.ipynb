{
 "cells": [
  {
   "cell_type": "markdown",
   "metadata": {},
   "source": [
    "# Problem 1: Making A Choice"
   ]
  },
  {
   "cell_type": "code",
   "execution_count": 1,
   "metadata": {},
   "outputs": [],
   "source": [
    "#create the 2 list\n",
    "thriller=['Dark','Mindhunter','Parasite','Inception','Insidious','Interstellar','Prison Break',\n",
    "          'Money Heist','War','Jack Ryan']\n",
    "comedy=['Friends','3 Idiots','Brooklyn 99','How I Met Your Mother','Rick And Morty',\n",
    "        'The Big Bang Theory','The Office','Space Force&quot']         "
   ]
  },
  {
   "cell_type": "code",
   "execution_count": 2,
   "metadata": {},
   "outputs": [
    {
     "name": "stdout",
     "output_type": "stream",
     "text": [
      "Enter the movie/TV series:Dark\n",
      "It is a Thriller\n"
     ]
    }
   ],
   "source": [
    "x=input('Enter the movie/TV series:')\n",
    "if x in thriller:\n",
    "    print('It is a Thriller')\n",
    "else:\n",
    "    if x in comedy:\n",
    "        print('It is a Comedy')\n",
    "    else:\n",
    "        print('Its neither Thriller nor Comedy')\n",
    "            "
   ]
  },
  {
   "cell_type": "markdown",
   "metadata": {},
   "source": [
    "# Problem 2: Number Of Pairs"
   ]
  },
  {
   "cell_type": "code",
   "execution_count": 22,
   "metadata": {},
   "outputs": [
    {
     "name": "stdout",
     "output_type": "stream",
     "text": [
      "Number Of Pairs: 4\n"
     ]
    }
   ],
   "source": [
    "x=[10,20,20,10,10,30,50,10,30] #array\n",
    "n=len(x)  #len of the array\n",
    "x.sort()   #sorting\n",
    "c=0\n",
    "i=0\n",
    "while(i<n-1):\n",
    "    if(x[i]==x[i+1]):\n",
    "        c=c+1\n",
    "        i=i+2\n",
    "    else:\n",
    "        i=i+1\n",
    "print('Number Of Pairs:',c)   \n",
    "\n",
    "        \n",
    "\n",
    "      "
   ]
  }
 ],
 "metadata": {
  "kernelspec": {
   "display_name": "Python 3",
   "language": "python",
   "name": "python3"
  },
  "language_info": {
   "codemirror_mode": {
    "name": "ipython",
    "version": 3
   },
   "file_extension": ".py",
   "mimetype": "text/x-python",
   "name": "python",
   "nbconvert_exporter": "python",
   "pygments_lexer": "ipython3",
   "version": "3.8.3"
  }
 },
 "nbformat": 4,
 "nbformat_minor": 4
}
